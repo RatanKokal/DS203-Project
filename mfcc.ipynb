{
 "cells": [
  {
   "cell_type": "code",
   "execution_count": 2,
   "metadata": {},
   "outputs": [],
   "source": [
    "import librosa\n",
    "import pandas as pd\n",
    "import os\n",
    "from pydub import AudioSegment"
   ]
  },
  {
   "cell_type": "code",
   "execution_count": null,
   "metadata": {},
   "outputs": [],
   "source": [
    "# Directory containing the MP3 files\n",
    "directory = 'MJ'\n",
    "\n",
    "# Loop through all files in the directory\n",
    "for filename in os.listdir(directory):\n",
    "    if filename.endswith('.mp3'):\n",
    "        try:\n",
    "            # Convert MP3 to WAV using pydub\n",
    "            mp3_filepath = os.path.join(directory, filename)\n",
    "            wav_filename = os.path.splitext(filename)[0] + '.wav'\n",
    "            wav_filepath = os.path.join(directory, wav_filename)\n",
    "\n",
    "            # Convert and export MP3 to WAV\n",
    "            audio = AudioSegment.from_mp3(mp3_filepath)\n",
    "            audio.export(wav_filepath, format='wav')\n",
    "\n",
    "            # Load the converted WAV file using librosa\n",
    "            y, sr = librosa.load(wav_filepath, sr=44100)\n",
    "\n",
    "            # Compute the MFCC features\n",
    "            mfccs = librosa.feature.mfcc(y=y, sr=sr, n_mfcc=20)\n",
    "\n",
    "            # Create a DataFrame from the MFCCs\n",
    "            mfcc_df = pd.DataFrame(mfccs.T, columns=['MFCC' + str(i) for i in range(mfccs.shape[0])])\n",
    "\n",
    "            # Create CSV filename (same name as MP3, but with .csv extension)\n",
    "            csv_filename = os.path.splitext(filename)[0] + '.csv'\n",
    "            csv_filepath = os.path.join(directory, csv_filename)\n",
    "\n",
    "            # Save the MFCCs to CSV\n",
    "            mfcc_df.to_csv(csv_filepath, index=False)\n",
    "\n",
    "            print(f'Saved MFCCs for {filename} to {csv_filename}')\n",
    "\n",
    "            # Optionally, remove the WAV file after processing\n",
    "            os.remove(wav_filepath)\n",
    "\n",
    "        except Exception as e:\n",
    "            print(f\"Failed to process {filename}: {e}\")"
   ]
  }
 ],
 "metadata": {
  "kernelspec": {
   "display_name": "base",
   "language": "python",
   "name": "python3"
  },
  "language_info": {
   "codemirror_mode": {
    "name": "ipython",
    "version": 3
   },
   "file_extension": ".py",
   "mimetype": "text/x-python",
   "name": "python",
   "nbconvert_exporter": "python",
   "pygments_lexer": "ipython3",
   "version": "3.11.7"
  }
 },
 "nbformat": 4,
 "nbformat_minor": 2
}
